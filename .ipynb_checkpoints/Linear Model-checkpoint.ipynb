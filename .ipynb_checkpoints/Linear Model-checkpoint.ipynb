{
 "cells": [
  {
   "cell_type": "code",
   "execution_count": 45,
   "metadata": {
    "collapsed": true
   },
   "outputs": [],
   "source": [
    "import matplotlib.pyplot as plt\n",
    "import numpy as np\n",
    "import pandas as pd\n",
    "from numpy.linalg import inv\n",
    "from sklearn import datasets, linear_model\n",
    "from sklearn.metrics import mean_squared_error, r2_score\n",
    "from scipy.stats import t"
   ]
  },
  {
   "cell_type": "code",
   "execution_count": 22,
   "metadata": {
    "collapsed": true
   },
   "outputs": [],
   "source": [
    "X = pd.read_csv(\"X.csv\", index_col=0)\n",
    "Y = pd.read_csv(\"Y.csv\", header=None).values\n",
    "X = X.drop(columns=['acq_industry_0', 'tar_industry_0'])\n",
    "n = X.shape[0]\n",
    "p = X.shape[1]"
   ]
  },
  {
   "cell_type": "code",
   "execution_count": 23,
   "metadata": {
    "collapsed": false
   },
   "outputs": [],
   "source": [
    "X = X.values\n",
    "X = np.hstack((np.ones((X.shape[0],1)), X))"
   ]
  },
  {
   "cell_type": "code",
   "execution_count": 34,
   "metadata": {
    "collapsed": false
   },
   "outputs": [],
   "source": [
    "regr = linear_model.LinearRegression()\n",
    "regr.fit(X, Y)\n",
    "\n",
    "# Make predictions\n",
    "Y_pred = regr.predict(X)\n",
    "\n",
    "# Compute some statistics\n",
    "res = Y - Y_pred\n",
    "res = res.flatten()\n",
    "#standardized residuals\n",
    "sig_hat = np.sqrt(sum(res**2)/(n-p-1))\n",
    "h = X.dot(inv(X.transpose().dot(X) + 0.001*np.eye(p+1))).dot(X.transpose())\n",
    "h_diag = np.diag(h)\n",
    "std_res = res/(sig_hat*np.sqrt(1-h_diag))"
   ]
  },
  {
   "cell_type": "code",
   "execution_count": 39,
   "metadata": {
    "collapsed": false
   },
   "outputs": [],
   "source": [
    "#predicted residuals\n",
    "pred_res = res/(1-h_diag)\n",
    "#RSS[i]\n",
    "RSS = sum(res**2)\n",
    "RSS_i = RSS - pred_res*res\n",
    "#standardized predicted residuals\n",
    "std_pred_res = (pred_res*np.sqrt(1 - h_diag))/np.sqrt(RSS_i/(n-p-2))\n",
    "#Cook's distance\n",
    "cook = std_res**2/(p+1)*h_diag/(1-h_diag)"
   ]
  },
  {
   "cell_type": "code",
   "execution_count": 41,
   "metadata": {
    "collapsed": false
   },
   "outputs": [],
   "source": [
    "# plot #\n",
    "plt.figure()\n",
    "plt.scatter(Y_pred, res)\n",
    "plt.xlabel(\"fitted values\")\n",
    "plt.ylabel(\"residual\")\n",
    "plt.title(\"Residuals VS Fitted\")\n",
    "plt.show()\n",
    "\n",
    "plt.scatter(Y_pred, std_res)\n",
    "plt.xlabel(\"fitted values\")\n",
    "plt.ylabel(\"standardized residuals\")\n",
    "plt.title(\"Standardized Residuals VS Fitted\")\n",
    "plt.show()\n",
    "\n",
    "plt.scatter(np.arange(n), cook)\n",
    "plt.xlabel(\"fitted values\")\n",
    "plt.ylabel(\"Cook's distance\")\n",
    "plt.title(\"Cook's Distance VS Fitted\")\n",
    "plt.show()"
   ]
  },
  {
   "cell_type": "code",
   "execution_count": 46,
   "metadata": {
    "collapsed": false
   },
   "outputs": [
    {
     "data": {
      "text/plain": [
       "15"
      ]
     },
     "execution_count": 46,
     "metadata": {},
     "output_type": "execute_result"
    }
   ],
   "source": [
    "degf = n-p-2\n",
    "t_stat = std_pred_res\n",
    "p_val = 2*t.cdf(-abs(t_stat), degf)\n",
    "plt.scatter(np.arange(n), p_val)\n",
    "sum(p_val<0.05)"
   ]
  },
  {
   "cell_type": "code",
   "execution_count": 52,
   "metadata": {
    "collapsed": false
   },
   "outputs": [
    {
     "data": {
      "text/plain": [
       "array([ 388,  389,  499, 3473, 3831, 4009], dtype=int64)"
      ]
     },
     "execution_count": 52,
     "metadata": {},
     "output_type": "execute_result"
    }
   ],
   "source": [
    "sum(p_val<(0.05/n))\n",
    "ind = np.where(p_val<(0.05/n))[0]\n",
    "ind"
   ]
  },
  {
   "cell_type": "code",
   "execution_count": 78,
   "metadata": {
    "collapsed": false
   },
   "outputs": [],
   "source": [
    "X_outlier = np.delete(X, ind, 0)\n",
    "Y_outlier = np.delete(Y, ind, 0)\n",
    "Y_outlier = np.sqrt(Y_outlier - min(Y_outlier)+0.001)\n"
   ]
  },
  {
   "cell_type": "code",
   "execution_count": 79,
   "metadata": {
    "collapsed": false
   },
   "outputs": [
    {
     "name": "stdout",
     "output_type": "stream",
     "text": [
      "Mean squared error: 0.01\n",
      "Variance score: 0.05\n"
     ]
    }
   ],
   "source": [
    "regr_2 = linear_model.LinearRegression()\n",
    "regr_2.fit(X_outlier, Y_outlier)\n",
    "Y_pred_outlier = regr_2.predict(X_outlier)\n",
    "# The mean squared error: Training error\n",
    "print(\"Mean squared error: %.2f\"\n",
    "      % mean_squared_error(Y_outlier, Y_pred_outlier))\n",
    "# Explained variance score: 1 is perfect prediction\n",
    "print('Variance score: %.2f' % r2_score(Y_outlier, Y_pred_outlier))"
   ]
  },
  {
   "cell_type": "code",
   "execution_count": 81,
   "metadata": {
    "collapsed": false
   },
   "outputs": [],
   "source": [
    "res_out = Y_outlier - Y_pred_outlier\n",
    "plt.scatter(Y_pred_outlier, res_out)\n",
    "plt.xlabel(\"fitted values\")\n",
    "plt.ylabel(\"residuals\")\n",
    "plt.title(\"Residuals VS Fitted (outliers removed)\")\n",
    "plt.show()"
   ]
  },
  {
   "cell_type": "code",
   "execution_count": null,
   "metadata": {
    "collapsed": true
   },
   "outputs": [],
   "source": []
  }
 ],
 "metadata": {
  "kernelspec": {
   "display_name": "Python [Root]",
   "language": "python",
   "name": "Python [Root]"
  },
  "language_info": {
   "codemirror_mode": {
    "name": "ipython",
    "version": 3
   },
   "file_extension": ".py",
   "mimetype": "text/x-python",
   "name": "python",
   "nbconvert_exporter": "python",
   "pygments_lexer": "ipython3",
   "version": "3.5.2"
  }
 },
 "nbformat": 4,
 "nbformat_minor": 0
}
