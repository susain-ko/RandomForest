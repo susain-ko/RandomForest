{
 "cells": [
  {
   "cell_type": "code",
   "execution_count": 79,
   "metadata": {
    "collapsed": true
   },
   "outputs": [],
   "source": [
    "import matplotlib.pyplot as plt\n",
    "import numpy as np\n",
    "import pandas as pd\n",
    "from numpy.linalg import inv\n",
    "from sklearn import datasets, linear_model\n",
    "from sklearn.metrics import mean_squared_error, r2_score"
   ]
  },
  {
   "cell_type": "code",
   "execution_count": 81,
   "metadata": {
    "collapsed": false
   },
   "outputs": [],
   "source": [
    "X = pd.read_csv(\"X.csv\", index_col=0)\n",
    "Y = pd.read_csv(\"Y.csv\", header=None).values\n",
    "n = X.shape[0]\n",
    "p = X.shape[1]\n",
    "#X = X.values\n",
    "#X = np.hstack((np.ones((X.shape[0],1)), X))"
   ]
  },
  {
   "cell_type": "code",
   "execution_count": 63,
   "metadata": {
    "collapsed": false
   },
   "outputs": [],
   "source": [
    "regr = linear_model.LinearRegression()\n",
    "regr.fit(X, Y)\n",
    "\n",
    "# Make predictions\n",
    "Y_pred = regr.predict(X)\n",
    "\n",
    "# Compute some statistics\n",
    "res = Y - Y_pred\n",
    "#standardized residuals\n",
    "sig_hat = sqrt(sum(res**2)/(n-p-1))\n",
    "h = X.dot(inv(X.transpose().dot(X))).dot(X.transpose())\n",
    "h_diag = np.diag(h)\n",
    "std_res = res/(sig_hat*np.sqrt(np.ones(len(h_diag))-h_diag))\n",
    "\n",
    "# #predicted residuals\n",
    "# pred_res = res/(1-h_diag)\n",
    "# #RSS[i]\n",
    "# RSS = sum(res^2)\n",
    "# RSS_i = RSS - pred_res*res\n",
    "# #standardized predicted residuals\n",
    "# std_pred_res = (pred_res*sqrt(1 - h_diag))/sqrt(RSS_i/(n-p-2))\n",
    "# #Cook's distance\n",
    "# cook = std_res^2/(p+1)*h_diag/(1-h_diag)"
   ]
  },
  {
   "cell_type": "code",
   "execution_count": 82,
   "metadata": {
    "collapsed": false
   },
   "outputs": [
    {
     "ename": "TypeError",
     "evalue": "drop() got an unexpected keyword argument 'columns'",
     "output_type": "error",
     "traceback": [
      "\u001b[1;31m---------------------------------------------------------------------------\u001b[0m",
      "\u001b[1;31mTypeError\u001b[0m                                 Traceback (most recent call last)",
      "\u001b[1;32m<ipython-input-82-57013eb6c466>\u001b[0m in \u001b[0;36m<module>\u001b[1;34m()\u001b[0m\n\u001b[1;32m----> 1\u001b[1;33m \u001b[0mX\u001b[0m\u001b[1;33m.\u001b[0m\u001b[0mdrop\u001b[0m\u001b[1;33m(\u001b[0m\u001b[0mcolumns\u001b[0m\u001b[1;33m=\u001b[0m\u001b[1;33m[\u001b[0m\u001b[1;34m'acq_industry_0'\u001b[0m\u001b[1;33m,\u001b[0m \u001b[1;34m'tar_industry_0'\u001b[0m\u001b[1;33m]\u001b[0m\u001b[1;33m)\u001b[0m\u001b[1;33m\u001b[0m\u001b[0m\n\u001b[0m",
      "\u001b[1;31mTypeError\u001b[0m: drop() got an unexpected keyword argument 'columns'"
     ]
    }
   ],
   "source": [
    "X.drop(columns=['acq_industry_0', 'tar_industry_0'])"
   ]
  }
 ],
 "metadata": {
  "kernelspec": {
   "display_name": "Python [Root]",
   "language": "python",
   "name": "Python [Root]"
  },
  "language_info": {
   "codemirror_mode": {
    "name": "ipython",
    "version": 3
   },
   "file_extension": ".py",
   "mimetype": "text/x-python",
   "name": "python",
   "nbconvert_exporter": "python",
   "pygments_lexer": "ipython3",
   "version": "3.5.2"
  }
 },
 "nbformat": 4,
 "nbformat_minor": 0
}
