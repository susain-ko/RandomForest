{
 "cells": [
  {
   "cell_type": "code",
   "execution_count": 1,
   "metadata": {
    "collapsed": true
   },
   "outputs": [],
   "source": [
    "import matplotlib.pyplot as plt\n",
    "import numpy as np\n",
    "import pandas as pd\n",
    "from numpy.linalg import inv\n",
    "from sklearn import datasets, linear_model\n",
    "from sklearn.metrics import mean_squared_error, r2_score\n",
    "from scipy.stats import t"
   ]
  },
  {
   "cell_type": "code",
   "execution_count": 2,
   "metadata": {
    "collapsed": true
   },
   "outputs": [],
   "source": [
    "X = pd.read_csv(\"X.csv\", index_col=0)\n",
    "Y = pd.read_csv(\"Y.csv\", header=None).values\n",
    "X = X.drop(columns=['acq_industry_0', 'tar_industry_0'])\n",
    "n = X.shape[0]\n",
    "p = X.shape[1]"
   ]
  },
  {
   "cell_type": "code",
   "execution_count": 18,
   "metadata": {
    "collapsed": false
   },
   "outputs": [],
   "source": [
    "remove = np.where(Y > 2)\n",
    "X = np.delete(X, remove, 0)\n",
    "Y = np.delete(Y, remove, 0)"
   ]
  },
  {
   "cell_type": "code",
   "execution_count": 3,
   "metadata": {
    "collapsed": false
   },
   "outputs": [],
   "source": [
    "X = X.values\n",
    "X = np.hstack((np.ones((X.shape[0],1)), X))"
   ]
  },
  {
   "cell_type": "code",
   "execution_count": 4,
   "metadata": {
    "collapsed": false
   },
   "outputs": [],
   "source": [
    "regr = linear_model.LinearRegression()\n",
    "regr.fit(X, Y)\n",
    "\n",
    "# Make predictions\n",
    "Y_pred = regr.predict(X)\n",
    "\n",
    "# Compute some statistics\n",
    "res = Y - Y_pred\n",
    "res = res.flatten()\n",
    "#standardized residuals\n",
    "sig_hat = np.sqrt(sum(res**2)/(n-p-1))\n",
    "h = X.dot(inv(X.transpose().dot(X) + 0.001*np.eye(p+1))).dot(X.transpose())\n",
    "h_diag = np.diag(h)\n",
    "std_res = res/(sig_hat*np.sqrt(1-h_diag))"
   ]
  },
  {
   "cell_type": "code",
   "execution_count": 5,
   "metadata": {
    "collapsed": false
   },
   "outputs": [],
   "source": [
    "#predicted residuals\n",
    "pred_res = res/(1-h_diag)\n",
    "#RSS[i]\n",
    "RSS = sum(res**2)\n",
    "RSS_i = RSS - pred_res*res\n",
    "#standardized predicted residuals\n",
    "std_pred_res = (pred_res*np.sqrt(1 - h_diag))/np.sqrt(RSS_i/(n-p-2))\n",
    "#Cook's distance\n",
    "cook = std_res**2/(p+1)*h_diag/(1-h_diag)"
   ]
  },
  {
   "cell_type": "code",
   "execution_count": 41,
   "metadata": {
    "collapsed": false
   },
   "outputs": [],
   "source": [
    "# plot #\n",
    "plt.figure()\n",
    "plt.scatter(Y_pred, res)\n",
    "plt.xlabel(\"fitted values\")\n",
    "plt.ylabel(\"residual\")\n",
    "plt.title(\"Residuals VS Fitted\")\n",
    "plt.show()\n",
    "\n",
    "plt.scatter(Y_pred, std_res)\n",
    "plt.xlabel(\"fitted values\")\n",
    "plt.ylabel(\"standardized residuals\")\n",
    "plt.title(\"Standardized Residuals VS Fitted\")\n",
    "plt.show()\n",
    "\n",
    "plt.scatter(np.arange(n), cook)\n",
    "plt.xlabel(\"fitted values\")\n",
    "plt.ylabel(\"Cook's distance\")\n",
    "plt.title(\"Cook's Distance VS Fitted\")\n",
    "plt.show()"
   ]
  },
  {
   "cell_type": "code",
   "execution_count": 6,
   "metadata": {
    "collapsed": false
   },
   "outputs": [
    {
     "data": {
      "text/plain": [
       "15"
      ]
     },
     "execution_count": 6,
     "metadata": {},
     "output_type": "execute_result"
    }
   ],
   "source": [
    "degf = n-p-2\n",
    "t_stat = std_pred_res\n",
    "p_val = 2*t.cdf(-abs(t_stat), degf)\n",
    "plt.scatter(np.arange(n), p_val)\n",
    "sum(p_val<0.05)"
   ]
  },
  {
   "cell_type": "code",
   "execution_count": 7,
   "metadata": {
    "collapsed": false
   },
   "outputs": [
    {
     "data": {
      "text/plain": [
       "array([ 388,  389,  499, 3473, 3831, 4009], dtype=int64)"
      ]
     },
     "execution_count": 7,
     "metadata": {},
     "output_type": "execute_result"
    }
   ],
   "source": [
    "sum(p_val<(0.05/n))\n",
    "ind = np.where(p_val<(0.05/n))[0]\n",
    "ind"
   ]
  },
  {
   "cell_type": "code",
   "execution_count": 8,
   "metadata": {
    "collapsed": false
   },
   "outputs": [],
   "source": [
    "X_outlier = np.delete(X, ind, 0)\n",
    "Y_outlier = np.delete(Y, ind, 0)\n",
    "Y_outlier = np.sqrt(Y_outlier - min(Y_outlier)+0.001)\n"
   ]
  },
  {
   "cell_type": "code",
   "execution_count": 9,
   "metadata": {
    "collapsed": false
   },
   "outputs": [
    {
     "name": "stdout",
     "output_type": "stream",
     "text": [
      "Mean squared error: 0.01\n",
      "Variance score: 0.05\n",
      "Coefficients: \n",
      " [[  1.46869049e-11   2.32096648e-06   6.41371045e-06  -1.56654934e-05\n",
      "    4.71161923e-06   1.65211797e-06   4.07795011e-06  -5.61004940e-06\n",
      "   -7.21599118e-06   7.03168549e-07   9.76114968e-06  -2.67572590e-07\n",
      "   -1.05221236e-06   1.59605793e-07  -1.39710652e-06   2.92041965e-06\n",
      "    1.33563041e-06  -4.82771722e-06   4.18567439e-07   2.82894685e-06\n",
      "   -2.19161802e-06   6.13101787e-06  -6.31208442e-06   3.41340077e-06\n",
      "   -2.38515873e-06   1.76217874e-03  -2.69874152e-03   7.32414337e-04\n",
      "   -2.41348504e-03   1.35635811e-03   1.31871276e-03  -8.19887985e-04\n",
      "   -2.30373635e-04  -3.78882128e-04   3.23821231e-03  -1.60507217e-03\n",
      "   -1.17043799e-03  -3.68542865e-06   3.46291571e-05  -3.38740827e-05\n",
      "    9.88892428e-07   1.47007199e-05  -2.56515539e-05   1.02025904e-05\n",
      "    9.76339022e-06  -1.44124338e-05  -2.36071380e-05   1.41177921e-05\n",
      "    1.12728603e-05  -6.82129303e-02   9.24703946e-02  -5.14289221e-03\n",
      "   -5.17151052e-02  -1.59245578e-02   5.29115865e-02  -4.79183868e-02\n",
      "   -1.42873145e-01   2.61372866e-01   8.14149799e-03  -1.12259469e-01\n",
      "    8.67553279e-02  -1.69354446e-03  -2.88474365e-03  -4.09639551e-03\n",
      "   -4.09639501e-03  -1.17149586e-02   1.31190178e-02   2.35571888e-03\n",
      "   -7.58961481e-04   3.78462609e-03  -7.39712194e-03   1.56040943e-02\n",
      "   -1.36736825e-02  -1.20101982e-05  -1.22112891e-06   2.00572473e-05\n",
      "   -7.71450091e-06  -3.87079358e-07  -4.46040092e-06   1.00182928e-06\n",
      "    7.92899981e-06   3.92237278e-06  -8.00804932e-06  -7.34521096e-06\n",
      "    8.07247058e-06   8.16144063e-06  -4.96298262e-06  -2.72342106e-06\n",
      "   -1.26242740e-07   3.63533342e-06  -1.83884747e-06   4.29239419e-07\n",
      "    8.05921025e-07  -6.43679265e-06   5.45057493e-06  -2.38489841e-09\n",
      "   -2.50364718e-06  -2.98755712e-04   1.19807330e-03   6.62393711e-04\n",
      "   -1.57826745e-03   1.26087349e-03   2.71152099e-04   1.95114878e-03\n",
      "   -2.86025076e-04  -1.04365452e-03  -2.41458684e-03  -1.02655600e-03\n",
      "    1.63968272e-03  -3.22292459e-07  -2.46538533e-05   2.76457219e-05\n",
      "   -1.58634052e-06  -1.74231328e-05   2.10449389e-05  -7.64682590e-07\n",
      "   -1.03984880e-05   9.43192605e-06   2.92034273e-05  -1.91344210e-05\n",
      "   -9.37363607e-06   5.35980874e-02  -6.63189216e-02   1.52650994e-02\n",
      "   -2.43649461e-03   6.19713795e-02  -7.95341868e-02   2.14577918e-02\n",
      "    2.26891564e-01  -3.12526367e-01  -3.96531123e-02   8.52279372e-02\n",
      "   -2.25878906e-02  -2.26428813e-03   7.15772582e-03  -1.90018436e-03\n",
      "    8.04050383e-03   1.60001967e-02  -2.08114827e-02   1.36277654e-04\n",
      "   -3.17811855e-03  -4.94180123e-03   2.71898338e-03  -1.24036065e-02\n",
      "    1.47297575e-02  -3.68218546e-03  -3.71578734e-03   6.18206231e-02\n",
      "   -6.61870194e-02  -2.27111701e-02   1.12316221e-01  -2.92252202e-02\n",
      "   -1.77170490e-01  -8.52467928e-03  -2.28553451e-02   4.80719307e-01\n",
      "    4.20526215e-01   1.20235886e-02  -2.53834355e-03  -2.98971746e-02\n",
      "    4.28725186e-02   1.69786835e-01   4.96821703e-04   2.09429911e-02\n",
      "   -3.06031224e-01]]\n"
     ]
    }
   ],
   "source": [
    "regr_2 = linear_model.LinearRegression()\n",
    "regr_2.fit(X_outlier, Y_outlier)\n",
    "Y_pred_outlier = regr_2.predict(X_outlier)\n",
    "# The mean squared error: Training error\n",
    "print(\"Mean squared error: %.2f\"\n",
    "      % mean_squared_error(Y_outlier, Y_pred_outlier))\n",
    "# Explained variance score: 1 is perfect prediction\n",
    "print('Variance score: %.2f' % r2_score(Y_outlier, Y_pred_outlier))\n",
    "# The coefficients\n",
    "print('Coefficients: \\n', regr.coef_)"
   ]
  },
  {
   "cell_type": "code",
   "execution_count": 81,
   "metadata": {
    "collapsed": false
   },
   "outputs": [],
   "source": [
    "res_out = Y_outlier - Y_pred_outlier\n",
    "plt.scatter(Y_pred_outlier, res_out)\n",
    "plt.xlabel(\"fitted values\")\n",
    "plt.ylabel(\"residuals\")\n",
    "plt.title(\"Residuals VS Fitted (outliers removed)\")\n",
    "plt.show()"
   ]
  },
  {
   "cell_type": "code",
   "execution_count": 20,
   "metadata": {
    "collapsed": false
   },
   "outputs": [],
   "source": [
    "plt.scatter(X[:,1], Y)\n",
    "plt.show()"
   ]
  },
  {
   "cell_type": "code",
   "execution_count": 21,
   "metadata": {
    "collapsed": false
   },
   "outputs": [
    {
     "ename": "AttributeError",
     "evalue": "'numpy.ndarray' object has no attribute 'columns'",
     "output_type": "error",
     "traceback": [
      "\u001b[1;31m---------------------------------------------------------------------------\u001b[0m",
      "\u001b[1;31mAttributeError\u001b[0m                            Traceback (most recent call last)",
      "\u001b[1;32m<ipython-input-21-dae3be4024db>\u001b[0m in \u001b[0;36m<module>\u001b[1;34m()\u001b[0m\n\u001b[1;32m----> 1\u001b[1;33m \u001b[0mX\u001b[0m\u001b[1;33m.\u001b[0m\u001b[0mcolumns\u001b[0m\u001b[1;33m[\u001b[0m\u001b[1;36m14\u001b[0m\u001b[1;33m]\u001b[0m\u001b[1;33m\u001b[0m\u001b[0m\n\u001b[0m",
      "\u001b[1;31mAttributeError\u001b[0m: 'numpy.ndarray' object has no attribute 'columns'"
     ]
    }
   ],
   "source": [
    "X.columns[14]"
   ]
  }
 ],
 "metadata": {
  "kernelspec": {
   "display_name": "Python [Root]",
   "language": "python",
   "name": "Python [Root]"
  },
  "language_info": {
   "codemirror_mode": {
    "name": "ipython",
    "version": 3
   },
   "file_extension": ".py",
   "mimetype": "text/x-python",
   "name": "python",
   "nbconvert_exporter": "python",
   "pygments_lexer": "ipython3",
   "version": "3.5.2"
  }
 },
 "nbformat": 4,
 "nbformat_minor": 0
}
